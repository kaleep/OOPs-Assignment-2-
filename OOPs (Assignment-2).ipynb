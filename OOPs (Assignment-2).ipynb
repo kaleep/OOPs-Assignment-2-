{
 "cells": [
  {
   "cell_type": "markdown",
   "id": "a5b447b7-b59b-4057-bbaa-98a8f7340b82",
   "metadata": {},
   "source": [
    "Q 1. What is Abstraction in OOps? Explain with an example.\n",
    "\n",
    "Ans: Abstraction is one of the fundamental principles of object-oriented programming (OOP) that focuses on hiding unnecessary details and exposing only the essential features of an object or a system. It allows you to create complex systems by breaking them down into manageable and understandable parts.\n",
    "\n",
    "The following code may be referred;\n",
    "\n"
   ]
  },
  {
   "cell_type": "code",
   "execution_count": 8,
   "id": "0de13b2e-0f47-4122-9cd2-4fd4fa26681b",
   "metadata": {},
   "outputs": [
    {
     "name": "stdout",
     "output_type": "stream",
     "text": [
      "welcome to customer signup app.[name,uid,pwd]\n",
      "welcome to login app.\n",
      "welcome to hotel signup app.[name,addr,items,price]\n",
      "welcome to login app.\n"
     ]
    }
   ],
   "source": [
    "from abc import ABC , abstractmethod\n",
    "\n",
    "class User ( ABC ):\n",
    "\n",
    "        @abstractmethod\n",
    "        def signup ( self ) : # incomplete \n",
    "                pass\n",
    "\n",
    "        def login ( self ) : # complete \n",
    "                print ( 'welcome to login app.')\n",
    "\n",
    "class Customer ( User ) :\n",
    "\n",
    "        def signup ( self ) :\n",
    "                print ( 'welcome to customer signup app.[name,uid,pwd]')\n",
    "\n",
    "class Hotel ( User ) :\n",
    "        def signup ( self ) :\n",
    "                print ( 'welcome to hotel signup app.[name,addr,items,price]')\n",
    "\n",
    "obj = Customer ()\n",
    "obj . signup ()\n",
    "obj . login ()\n",
    "\n",
    "obj = Hotel ()\n",
    "obj . signup ()\n",
    "obj . login ()"
   ]
  },
  {
   "cell_type": "markdown",
   "id": "d1c2a548-9805-49e5-b383-f32898655390",
   "metadata": {},
   "source": [
    "Q2. Differentiate between Abstraction and Encapsulation. Explain with an example.\n",
    "\n",
    "Ans:\n",
    "\n",
    "Abstraction and encapsulation are both important concepts in object-oriented programming (OOP), but they serve different purposes.\n",
    "\n",
    "Abstraction focuses on hiding unnecessary details and exposing only the essential features of an object or a system. It allows you to create more manageable and understandable code by abstracting away complex implementation details. Abstraction is achieved through the use of abstract classes, interfaces, and abstract methods.\n",
    "\n",
    "Encapsulation, on the other hand, is about bundling related data and methods together within a class and restricting direct access to the internal state of an object. It helps in maintaining data integrity and provides a way to control the interaction with an object by enforcing access levels. Encapsulation is achieved through the use of access modifiers like public, private, and protected.\n",
    "\n",
    "To illustrate the difference between abstraction and encapsulation, let's consider an example of a bank account system."
   ]
  },
  {
   "cell_type": "code",
   "execution_count": 9,
   "id": "e32a893a-7054-4d86-9e72-167e3a9c0040",
   "metadata": {},
   "outputs": [],
   "source": [
    "class BankAccount:\n",
    "    def __init__(self, account_number, balance):\n",
    "        self.account_number = account_number\n",
    "        self.balance = balance\n",
    "\n",
    "    def deposit(self, amount):\n",
    "        self.balance += amount\n",
    "\n",
    "    def withdraw(self, amount):\n",
    "        if self.balance >= amount:\n",
    "            self.balance -= amount\n",
    "        else:\n",
    "            print(\"Insufficient balance.\")\n",
    "\n",
    "    def display_balance(self):\n",
    "        print(f\"Account Number: {self.account_number}\")\n",
    "        print(f\"Balance: {self.balance}\")"
   ]
  },
  {
   "cell_type": "markdown",
   "id": "d4726e5e-149f-47cf-8c97-406c26d90f7a",
   "metadata": {},
   "source": [
    "In this example, the BankAccount class represents a bank account and encapsulates the data related to the account number and balance. The methods deposit, withdraw, and display_balance provide the necessary functionality to interact with the account.\n",
    "\n",
    "Encapsulation is demonstrated by marking the account_number and balance attributes as private (by convention, using a single underscore prefix), meaning they are intended to be accessed only within the class. This encapsulation ensures that the internal state of the bank account is protected and can only be modified through the defined methods.\n",
    "\n",
    "Abstraction, on the other hand, can be achieved by introducing an abstract class called Account that defines common behaviors for different types of accounts, such as savings account or checking account. This abstract class can have abstract methods like calculate_interest or generate_statement, which must be implemented by its subclasses."
   ]
  },
  {
   "cell_type": "code",
   "execution_count": 10,
   "id": "fe07d3ee-95a1-4f82-8e6b-ec128c6831a2",
   "metadata": {},
   "outputs": [],
   "source": [
    "from abc import ABC, abstractmethod\n",
    "\n",
    "class Account(ABC):\n",
    "    def __init__(self, account_number, balance):\n",
    "        self.account_number = account_number\n",
    "        self.balance = balance\n",
    "\n",
    "    @abstractmethod\n",
    "    def calculate_interest(self):\n",
    "        pass\n",
    "\n",
    "    @abstractmethod\n",
    "    def generate_statement(self):\n",
    "        pass\n",
    "\n",
    "class SavingsAccount(Account):\n",
    "    def calculate_interest(self):\n",
    "        interest = self.balance * 0.05  # Assuming 5% interest rate\n",
    "        self.balance += interest\n",
    "\n",
    "    def generate_statement(self):\n",
    "        print(\"Generating savings account statement...\")\n",
    "        # Generate and print the statement\n",
    "\n",
    "class CheckingAccount(Account):\n",
    "    def calculate_interest(self):\n",
    "        # Checking accounts do not earn interest\n",
    "        pass\n",
    "\n",
    "    def generate_statement(self):\n",
    "        print(\"Generating checking account statement...\")\n",
    "        # Generate and print the statement"
   ]
  },
  {
   "cell_type": "markdown",
   "id": "42f87914-8a1e-433d-b6cc-cf7c2728ed17",
   "metadata": {},
   "source": [
    "In this extended example, the Account class is an abstract class that defines common properties and behaviors for all types of accounts. It introduces abstract methods calculate_interest and generate_statement, which must be implemented by the concrete subclasses like SavingsAccount and CheckingAccount.\n",
    "\n",
    "In this way, abstraction allows us to define a common interface and behavior for different types of accounts, while encapsulation ensures that the internal state of each account is protected and accessed through the defined methods."
   ]
  },
  {
   "cell_type": "markdown",
   "id": "d578279c-f265-4b60-a92f-4da4d032a3eb",
   "metadata": {},
   "source": [
    "Q.3 What is abc module in python? Why is it used?\n",
    "\n",
    "\n",
    "Ans:\n",
    "\n",
    "In Python, the abc module stands for \"Abstract Base Classes.\" It provides a way to define abstract classes in Python. An abstract class is a class that cannot be instantiated and serves as a blueprint for other classes. It defines common methods and attributes that should be implemented by its concrete subclasses.\n",
    "\n",
    "The abc module is used to create abstract base classes and enforce the implementation of specific methods in derived classes. It allows you to define common interfaces and behaviors that subclasses should adhere to, promoting code consistency and structure. The main purpose of using the abc module is to implement abstraction in Python.\n",
    "\n",
    "The abc module provides the ABC class as the base class for defining abstract base classes. It also provides decorators, such as @abstractmethod and @abstractproperty, to mark methods and properties as abstract. By using these decorators, you can specify that a method or property must be implemented by any concrete subclass of the abstract base class.\n",
    "\n",
    "Here's a simple example that demonstrates the usage of the abc module to define an abstract base class:"
   ]
  },
  {
   "cell_type": "code",
   "execution_count": 11,
   "id": "6a491dd5-d59c-4846-aefb-f36f43fae923",
   "metadata": {},
   "outputs": [],
   "source": [
    "from abc import ABC, abstractmethod\n",
    "\n",
    "class Shape(ABC):\n",
    "    @abstractmethod\n",
    "    def area(self):\n",
    "        pass\n",
    "\n",
    "    @abstractmethod\n",
    "    def perimeter(self):\n",
    "        pass"
   ]
  },
  {
   "cell_type": "markdown",
   "id": "948e44d9-f13a-409b-81a0-5e7f6ab3acd0",
   "metadata": {},
   "source": [
    "In this example, the Shape class is defined as an abstract base class by inheriting from the ABC class. The @abstractmethod decorator is used to mark the area and perimeter methods as abstract. Any class that inherits from the Shape class must implement these abstract methods.\n",
    "\n",
    "By using the abc module, you can enforce the implementation of specific methods in subclasses, ensuring that the desired behavior is implemented consistently across different classes. It helps in designing and structuring code, promoting code reuse and maintainability.\n",
    "\n",
    "Additionally, the abc module provides other useful features like the @abstractclassmethod decorator, which allows you to define abstract class methods, and the register method, which allows you to register virtual subclasses. These features provide additional flexibility and extensibility when working with abstract base classes."
   ]
  },
  {
   "cell_type": "markdown",
   "id": "def8ee3b-0975-4865-b4e7-3718aa35e9d2",
   "metadata": {},
   "source": [
    "Q.4 How can we achieve data abstraction?\n",
    "\n",
    "Ans:\n",
    "Data abstraction in programming refers to the process of representing complex data in a simplified manner, by hiding the internal details and exposing only the essential attributes and operations. It allows users to interact with the data without needing to understand its underlying implementation.\n",
    "\n",
    "In object-oriented programming (OOP), data abstraction can be achieved through the use of classes, encapsulation, and access modifiers. Here are the steps to achieve data abstraction:\n",
    "\n",
    "Define a Class: Start by defining a class that represents the data you want to abstract. The class should encapsulate the data and provide methods to manipulate and interact with it.\n",
    "\n",
    "Encapsulation: Encapsulate the data within the class by using access modifiers (such as private, protected, or public) to restrict direct access to the internal state of the object. This ensures that the data can only be accessed and modified through the defined methods of the class.\n",
    "\n",
    "Public Interface: Expose a public interface by defining public methods that allow users to interact with the data. These methods should provide a simplified and meaningful way to perform operations on the data without exposing the internal details.\n",
    "\n",
    "Hide Implementation Details: Hide the implementation details of the data by keeping them private or protected within the class. This allows you to change the implementation without affecting the code that interacts with the data.\n",
    "\n",
    "Here's an example to illustrate data abstraction in Python:\n",
    "\n"
   ]
  },
  {
   "cell_type": "code",
   "execution_count": 12,
   "id": "403600d1-5825-4ef2-bab7-b93be8b7c47a",
   "metadata": {},
   "outputs": [],
   "source": [
    "class BankAccount:\n",
    "    def __init__(self, account_number, balance):\n",
    "        self._account_number = account_number  # Encapsulated data (protected)\n",
    "        self._balance = balance  # Encapsulated data (protected)\n",
    "\n",
    "    def deposit(self, amount):\n",
    "        self._balance += amount\n",
    "\n",
    "    def withdraw(self, amount):\n",
    "        if self._balance >= amount:\n",
    "            self._balance -= amount\n",
    "        else:\n",
    "            print(\"Insufficient balance.\")\n",
    "\n",
    "    def display_balance(self):\n",
    "        print(f\"Account Number: {self._account_number}\")\n",
    "        print(f\"Balance: {self._balance}\")"
   ]
  },
  {
   "cell_type": "markdown",
   "id": "a4da2c45-dca4-4078-8405-338decc374c8",
   "metadata": {},
   "source": [
    "In this example, the BankAccount class encapsulates the data related to an account number and balance. The attributes _account_number and _balance are marked as protected (using a single underscore prefix) to indicate that they should not be directly accessed from outside the class.\n",
    "\n",
    "The public methods deposit, withdraw, and display_balance provide a public interface for interacting with the bank account. Users of this class can deposit or withdraw funds and display the account balance without needing to know the implementation details or accessing the encapsulated data directly.\n",
    "\n",
    "By encapsulating the data and providing a public interface, we achieve data abstraction. Users can interact with the bank account through the provided methods, which handle the underlying operations and maintain the integrity of the data.\n",
    "\n",
    "Using data abstraction, the complexities of the underlying implementation are hidden, allowing users to work with the data at a higher level of abstraction. This promotes code maintainability, reusability, and reduces the risk of unintended modifications or errors."
   ]
  },
  {
   "cell_type": "code",
   "execution_count": null,
   "id": "8d1ae85f-5e00-4c48-baf5-2d560098811f",
   "metadata": {},
   "outputs": [],
   "source": []
  }
 ],
 "metadata": {
  "kernelspec": {
   "display_name": "Python 3 (ipykernel)",
   "language": "python",
   "name": "python3"
  },
  "language_info": {
   "codemirror_mode": {
    "name": "ipython",
    "version": 3
   },
   "file_extension": ".py",
   "mimetype": "text/x-python",
   "name": "python",
   "nbconvert_exporter": "python",
   "pygments_lexer": "ipython3",
   "version": "3.10.8"
  }
 },
 "nbformat": 4,
 "nbformat_minor": 5
}
